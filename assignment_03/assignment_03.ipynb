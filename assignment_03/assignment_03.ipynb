{
 "cells": [
  {
   "cell_type": "code",
   "execution_count": 1,
   "metadata": {},
   "outputs": [],
   "source": [
    "# Import all required libraries\n",
    "import csv\n",
    "import os\n",
    "import numpy as np\n",
    "import pandas as pd\n",
    "import torch\n",
    "import random"
   ]
  },
  {
   "cell_type": "code",
   "execution_count": 2,
   "metadata": {},
   "outputs": [
    {
     "name": "stdout",
     "output_type": "stream",
     "text": [
      "Num samples: 5560\n"
     ]
    }
   ],
   "source": [
    "# Read in the csv file of known malware containing SHA256 hashes and corresponding malware family name\n",
    "# Save the hashes and family names in a dictionary\n",
    "\n",
    "# Define a function to return the csv containing the hashes and family for each malware sample in the dataset\n",
    "def read_malware_csv(file_path):\n",
    "    # Read each line of the csv file\n",
    "    with open(file_path, mode='r') as csvfile:\n",
    "        reader = csv.reader(csvfile)\n",
    "        # Skip the first row containing field names\n",
    "        next(reader)\n",
    "        # Split the line into a pair-value and add into a dictionary\n",
    "        malware_dict = {rows[0]: rows[1] for rows in reader}\n",
    "    return malware_dict\n",
    "\n",
    "# Read the csv\n",
    "malware_dict = read_malware_csv('sha256_family.csv')\n",
    "# Print the number of unique hashes\n",
    "print(\"Num samples: \" + str(len(malware_dict)))"
   ]
  },
  {
   "cell_type": "code",
   "execution_count": 5,
   "metadata": {},
   "outputs": [],
   "source": [
    "# Feature pre-processing\n",
    "# Create 2 new dictionaries: one to store feature strings found in malware files, and one to store feature strings found in all files\n",
    "\n",
    "# For each file in the dataset directory:\n",
    "# - For each line starting with 'feature' or 'permission' after splitting the line by '::':\n",
    "#   - Add the feature string to the dictionary of features found in all files\n",
    "#   - If the filename hash is contained in the malware dictionary, add the feature string to the dictionary of features found in malware files\n",
    "\n",
    "def process_features(directory_path, malware_dict):\n",
    "    all_features = {}\n",
    "    malware_features = {}\n",
    "    \n",
    "    # For each file in the dataset directory\n",
    "    for filename in os.listdir(directory_path):\n",
    "        # Join the directory path and filename to get the full file path\n",
    "        file_path = os.path.join(directory_path, filename)\n",
    "        \n",
    "        with open(file_path, 'r') as file:\n",
    "            for line in file:\n",
    "                # Extract features and permissions from lines starting with 'feature' or 'permission'\n",
    "                if line.startswith('feature') or line.startswith('permission'):\n",
    "                    feature = line.split('::')[1].strip()\n",
    "                    # Count occurrences of each feature in all files\n",
    "                    all_features[feature] = all_features.get(feature, 0) + 1\n",
    "                    # Increment to malware features if the filename is in the malware dictionary\n",
    "                    if filename in malware_dict:\n",
    "                        malware_features[feature] = malware_features.get(feature, 0) + 1\n",
    "\n",
    "    return all_features, malware_features\n",
    "\n",
    "# Specify directory path containing the dataset (substitute with your own path)\n",
    "# directory_path = '<path_to_dataset_directory>'\n",
    "directory_path = 'C:\\\\Users\\\\Kevin\\\\Code\\\\GitHub\\\\CSEC620-ML\\\\assignment_03\\\\feature_vectors\\\\feature_vectors'\n",
    "all_features, malware_features = process_features(directory_path, malware_dict)\n",
    "\n",
    "# Generate the feature vectors with a specified size\n",
    "feature_vector_size = 25\n",
    "\n",
    "# Create a list of the most common malware features\n",
    "sorted_malware_features = sorted(malware_features.items(), key=lambda x: x[1], reverse=True)[:feature_vector_size]\n",
    "\n",
    "# Create a list of the most common malware features\n",
    "common_malware_features = [feature for feature, count in sorted_malware_features]\n",
    "\n",
    "# Create a dictionary of the most common unique features that are not common malware features \n",
    "unique_features = {feature: count for feature, count in all_features.items() if feature not in common_malware_features}\n",
    "sorted_unique_features = sorted(unique_features.items(), key=lambda x: x[1], reverse=True)[:feature_vector_size]\n",
    "\n",
    "# Generate a list containing the names of features from the sorted_malware_features dict and sorted_unique_features dict\n",
    "reference_vector = [feature for feature, count in sorted_malware_features] + [feature for feature, count in sorted_unique_features]"
   ]
  },
  {
   "cell_type": "code",
   "execution_count": 7,
   "metadata": {},
   "outputs": [
    {
     "name": "stdout",
     "output_type": "stream",
     "text": [
      "Num samples: 129013\n"
     ]
    }
   ],
   "source": [
    "# Generate the vectorized dataset\n",
    "# For each file in the dataset directory:\n",
    "# - Create a vector of zeros with the same length as the reference vector\n",
    "# - For each line starting with 'feature' or 'permission' after splitting the line by '::':\n",
    "#   - If the feature is in the reference vector, set the corresponding index in the vector to 1\n",
    "# - Append the vector to the dataset list\n",
    "# - Save the dataset to a csv file\n",
    "\n",
    "def generate_vectorized_dataset(directory_path, reference_vector_dict, malware_dict):\n",
    "    dataset = []\n",
    "    dataset_hashes = []\n",
    "    dataset_labels = []\n",
    "    dataset_families = []\n",
    "\n",
    "    # For each file in the dataset directory\n",
    "    for filename in os.listdir(directory_path):\n",
    "        # Join the directory path and filename to get the full file path\n",
    "        file_path = os.path.join(directory_path, filename)\n",
    "        \n",
    "        # Create a vector of zeros with the same length as the reference vector\n",
    "        vector = np.zeros(len(reference_vector_dict), dtype=int)\n",
    "        \n",
    "        with open(file_path, 'r') as file:\n",
    "            for line in file:\n",
    "                # Extract features and permissions from lines starting with 'feature' or 'permission'\n",
    "                if line.startswith('feature') or line.startswith('permission'):\n",
    "                    feature = line.split('::')[1].strip()\n",
    "                    # If the feature is in the reference vector, set the corresponding index in the vector to 1\n",
    "                    if feature in reference_vector_dict:\n",
    "                        vector[reference_vector_dict[feature]] = 1\n",
    "\n",
    "        # Append the filename hash to the dataset hashes list\n",
    "        dataset_hashes.append(filename)\n",
    "\n",
    "        # Append the label to the dataset labels list\n",
    "        if filename in malware_dict:\n",
    "            dataset_labels.append(1)\n",
    "            dataset_families.append(malware_dict[filename])\n",
    "        else:\n",
    "            dataset_labels.append(0)\n",
    "            dataset_families.append('benign')\n",
    "\n",
    "        # Append the vector to the dataset list\n",
    "        dataset.append(vector)\n",
    "\n",
    "    return dataset, dataset_hashes, dataset_labels, dataset_families\n",
    "\n",
    "# Convert the list into a dict with the order of the features in the list as the key\n",
    "reference_vector_dict = {feature: i for i, feature in enumerate(reference_vector)}\n",
    "\n",
    "# Generate the vectorized dataset\n",
    "dataset, dataset_hashes, dataset_labels, dataset_families = generate_vectorized_dataset(directory_path, reference_vector_dict, malware_dict)\n",
    "\n",
    "# Print the number of samples in the dataset\n",
    "print(\"Num samples: \" + str(len(dataset)))"
   ]
  },
  {
   "cell_type": "code",
   "execution_count": 8,
   "metadata": {},
   "outputs": [],
   "source": [
    "# Save the dataset to a csv file\n",
    "# Each row of the csv file will contain the hash, label, family, and feature vector for each sample\n",
    "def save_dataset_to_csv(dataset_hashes, dataset_labels, dataset_families, dataset, output_file_path):\n",
    "    df = pd.DataFrame(dataset_hashes, columns=['hash'])\n",
    "    # Add the hashes, labels, and families as new columns\n",
    "    df.insert(1, 'label', dataset_labels)\n",
    "    df.insert(2, 'family', dataset_families)\n",
    "    df.insert(3, 'vector', dataset)\n",
    "    # Save the DataFrame to a csv file\n",
    "    df.to_csv(output_file_path, index=False)\n",
    "\n",
    "# Save the dataset to a csv file\n",
    "output_file_path = 'vectorized_dataset.csv'\n",
    "save_dataset_to_csv(dataset_hashes, dataset_labels, dataset_families, dataset, output_file_path)"
   ]
  },
  {
   "cell_type": "code",
   "execution_count": 9,
   "metadata": {},
   "outputs": [
    {
     "name": "stdout",
     "output_type": "stream",
     "text": [
      "\n",
      "Loaded dataset from csv file:\n",
      "                                                hash  label     family  \\\n",
      "0  00002d74a9faa53f5199c910b652ef09d3a7f6bd42b693...      1  GinMaster   \n",
      "1  000068216bdb459df847bfdd67dd11069c3c50166db1ea...      0     benign   \n",
      "2  0000764713b286cfe7e8e76c7038c92312977712d9c5a8...      1     Opfake   \n",
      "3  0000962c2c34de1ca0c329b18be7847459da2d9d14b6b2...      0     benign   \n",
      "4  000167f1ff061ea91440c40659c11c2af160342fd2e493...      0     benign   \n",
      "\n",
      "                                              vector  \n",
      "0  [1 1 1 1 1 0 0 1 0 0 1 0 0 0 0 0 0 0 0 0 1 0 0...  \n",
      "1  [1 0 0 1 0 0 0 1 0 0 0 0 0 0 0 0 0 0 0 0 0 0 0...  \n",
      "2  [1 1 1 1 1 1 1 1 0 0 0 0 0 0 1 1 1 1 1 0 1 0 0...  \n",
      "3  [1 1 0 0 0 0 0 0 0 0 1 0 0 0 0 0 0 0 0 0 0 0 0...  \n",
      "4  [1 1 0 1 1 0 0 0 0 0 1 0 0 0 0 0 0 0 0 0 0 0 0...  \n",
      "\n",
      "Keys of the loaded dataset:\n",
      "Index(['hash', 'label', 'family', 'vector'], dtype='object')\n"
     ]
    }
   ],
   "source": [
    "# Load the dataset from the csv file\n",
    "def load_dataset_from_csv(file_path):\n",
    "    df = pd.read_csv(file_path)\n",
    "    return df\n",
    "\n",
    "# Load the dataset from the csv file\n",
    "loaded_dataset = load_dataset_from_csv('vectorized_dataset.csv')\n",
    "print(\"\\nLoaded dataset from csv file:\")\n",
    "print(loaded_dataset.head())\n",
    "\n",
    "# Print keys of the loaded dataset\n",
    "print(\"\\nKeys of the loaded dataset:\")\n",
    "print(loaded_dataset.keys())\n",
    "\n",
    "# Convert all columns to numpy arrays\n",
    "dataset_hashes = loaded_dataset['hash'].tolist()\n",
    "dataset_labels = loaded_dataset['label'].tolist()\n",
    "dataset_families = loaded_dataset['family'].tolist()\n",
    "\n",
    "# Process each vector in the dataset by removing the brackets, splitting into a list via spaces, and typecasting to int\n",
    "dataset_vectors = []\n",
    "for vector in loaded_dataset['vector']:\n",
    "    vector = vector.strip('[]').split(' ')\n",
    "    # Typecast the vector of strings to int\n",
    "    vector = [int(i) for i in vector]\n",
    "    dataset_vectors.append(vector)\n",
    "dataset_vectors = dataset_vectors"
   ]
  },
  {
   "cell_type": "code",
   "execution_count": 10,
   "metadata": {},
   "outputs": [
    {
     "name": "stdout",
     "output_type": "stream",
     "text": [
      "\n",
      "Number of training sets created: 55\n"
     ]
    }
   ],
   "source": [
    "# Generate a one-vs-all training set for each family in the dataset with more than n occurrences\n",
    "\n",
    "# Set to 0 to create a dataset for all available families\n",
    "min_occurrences = 10\n",
    "\n",
    "# Create a dictionary to store the training sets for each family\n",
    "training_sets_samples = {}\n",
    "training_sets_labels = {}\n",
    "\n",
    "# Iterate through each family and create a one-vs-all training set for each\n",
    "family_counts = pd.Series(dataset_families).value_counts()\n",
    "for family in family_counts.index:\n",
    "    if family_counts[family] >= min_occurrences:\n",
    "        training_set_samples = []\n",
    "        training_set_labels = []\n",
    "        # Append malware samples for the current family\n",
    "        malware_indexes = [i for i in range(len(dataset_families)) if dataset_families[i] == family]\n",
    "        index = 0\n",
    "        # Create a balanced dataset with 50,000 malware samples and 50,000 benign samples\n",
    "        while len(training_set_samples) < 50000:\n",
    "            training_set_samples.append(dataset_vectors[malware_indexes[index]])\n",
    "            training_set_labels.append(1)\n",
    "            index += 1\n",
    "            if index >= len(malware_indexes):\n",
    "                index = 0\n",
    "        # Append benign samples for the current family\n",
    "        benign_indexes = [i for i in range(len(dataset_families)) if dataset_families[i] != family]\n",
    "        index = 0\n",
    "        while len(training_set_samples) < 100000:\n",
    "            training_set_samples.append(dataset_vectors[benign_indexes[index]])\n",
    "            training_set_labels.append(0)\n",
    "            index += 1\n",
    "            if index >= len(benign_indexes):\n",
    "                index = 0\n",
    "        training_sets_samples[family] = training_set_samples\n",
    "        training_sets_labels[family] = training_set_labels\n",
    "\n",
    "# Print the number of training sets created\n",
    "print(\"\\nNumber of training sets created:\", len(training_sets_samples))"
   ]
  },
  {
   "cell_type": "code",
   "execution_count": 24,
   "metadata": {},
   "outputs": [],
   "source": [
    "# Single class (one vs all) SVM implementation\n",
    "\n",
    "class SVM:\n",
    "    def __init__(self, epochs=2000, learning_rate=0.005):\n",
    "        # Set learning rate and number of epochs/iterations\n",
    "        self.learning_rate = learning_rate\n",
    "        self.epochs = epochs\n",
    "\n",
    "        # Initiate weights and biases to None, assigned based on the size of the first training point\n",
    "        self.weights = None\n",
    "        self.bias = None\n",
    "\n",
    "    def fit(self, samples, raw_labels, regularization_term=0):\n",
    "        # Convert samples and labels to PyTorch tensors\n",
    "        samples = torch.tensor(samples, dtype=torch.float32)\n",
    "        raw_labels = torch.tensor(raw_labels, dtype=torch.float32).view(-1, 1)\n",
    "\n",
    "        # Update labels from (0 or 1) to (-1 or 1) for hinge loss calculation\n",
    "        labels = torch.where(raw_labels == 1, torch.tensor(1.0, dtype=torch.float32), torch.tensor(-1.0, dtype=torch.float32))\n",
    "\n",
    "        # Get the number of samples and number of features per sample\n",
    "        num_samples, num_features = samples.shape\n",
    "\n",
    "        # Initialize n weights to 0, where n is the number of features\n",
    "        # requires_grad set to True to allow automatic tuning by PyTorch optimizer\n",
    "        self.weights = torch.zeros((num_features, 1), dtype=torch.float32, requires_grad=True)\n",
    "\n",
    "        # Set the initial bias to 0 (tensor of size 1)\n",
    "        # requires_grad set to True to allow automatic tuning by PyTorch optimizer\n",
    "        self.bias = torch.zeros(1, dtype=torch.float32, requires_grad=True)\n",
    "\n",
    "        # Specify Stocastic Gradient Descent as the optimizer\n",
    "        optimizer = torch.optim.SGD([self.weights, self.bias], lr=self.learning_rate)\n",
    "\n",
    "        # Training function\n",
    "        for epoch_index in range(self.epochs):\n",
    "            # Reset gradients\n",
    "            optimizer.zero_grad()\n",
    "\n",
    "            # Predict the score of the sample (same as predict function w/o function call overhead)\n",
    "            prediction = torch.matmul(samples, self.weights) - self.bias\n",
    "\n",
    "            # Compute the margin by applying the labels to the corresponding predictions\n",
    "            margin = prediction * labels\n",
    "\n",
    "            # Compute the average hinge loss\n",
    "            hinge_loss = torch.mean(torch.clamp(1 - margin, min=0))\n",
    "\n",
    "            # Add regularization to the cost function\n",
    "            reg_cost = regularization_term * torch.norm(self.weights, p=2) / 2\n",
    "\n",
    "            # Calculate total loss\n",
    "            loss = hinge_loss + reg_cost\n",
    "\n",
    "            # Use PyTorch to automatically compute gradients\n",
    "            loss.backward()\n",
    "\n",
    "            # Update parameters\n",
    "            optimizer.step()\n",
    "        \n",
    "    def predict(self, samples):\n",
    "        # Compute the score/prediction by finding the dot product between the data points and the weights, including the bias\n",
    "        # Apply a sigmoid to the prediction to convert it to a probability for the multi-class ensemble classification\n",
    "        return torch.sigmoid(torch.matmul(torch.tensor(samples, dtype=torch.float32), self.weights) + self.bias)"
   ]
  },
  {
   "cell_type": "code",
   "execution_count": null,
   "metadata": {},
   "outputs": [],
   "source": [
    "# Create an ensemble classifier which initializes multiple one vs all SVM classifiers, including one for benign samples\n",
    "# Each SVM classifier makes a prediction on the sample data and outputs a score\n",
    "# The classifier with the highest score classifies the sample\n",
    "\n",
    "class Ensemble_SVM:\n",
    "    def __init__(self, epochs=2000, learning_rate=0.005):\n",
    "        # Store the number of epochs and learning rate\n",
    "        self.epochs = epochs\n",
    "        self.learning_rate = learning_rate\n",
    "        # Set the number of models in the ensemble\n",
    "        self.num_models = None\n",
    "        # Initialize a list to store the models and a list for the corresponding family names\n",
    "        self.models = []\n",
    "        self.model_families = []\n",
    "    \n",
    "    def fit(self, families, sample_sets, label_sets, regularization_term=0):\n",
    "        # Get the number of models\n",
    "        self.num_models = len(families)\n",
    "        for index in range(len(families)):\n",
    "            self.model_families.append(families[index])\n",
    "            # Create an SVM model for each family and train it\n",
    "            model = SVM(epochs=self.epochs, learning_rate=self.learning_rate)\n",
    "            model.fit(sample_sets[index], label_sets[index], regularization_term)\n",
    "            self.models.append(model)\n",
    "    \n",
    "    def predict(self, samples):\n",
    "        # Predict the class of the sample using voting (highest score)\n",
    "        predictions = []\n",
    "        for model in self.models:\n",
    "            predictions.append(model.predict(samples))\n",
    "        # Get the index of the model with the highest prediction\n",
    "        max_index = predictions.index(max(predictions))\n",
    "        return self.model_families[max_index]\n",
    "    \n",
    "    # Predict the class of the sample with weighted predictions\n",
    "    def weighted_predict(self, samples, bias):\n",
    "        # Predict the class of the sample using voting (highest score)\n",
    "        predictions = []\n",
    "        for model_index in range(len(self.models)):\n",
    "            # Apply the accuracy of the model as a bias to the prediction\n",
    "            prediction = self.models[model_index].predict(samples)\n",
    "            # predictions.append(self.models[model_index].predict(samples) * bias[model_index])\n",
    "            predictions.append(prediction + (prediction * bias[model_index]))\n",
    "        # Get the index of the model with the highest prediction\n",
    "        max_index = predictions.index(max(predictions))\n",
    "        return self.model_families[max_index]"
   ]
  },
  {
   "cell_type": "code",
   "execution_count": 34,
   "metadata": {},
   "outputs": [
    {
     "name": "stdout",
     "output_type": "stream",
     "text": [
      "\n",
      "Top 20 families used in the ensemble model:\n",
      "['benign', 'FakeInstaller', 'DroidKungFu', 'Plankton', 'Opfake', 'GinMaster', 'BaseBridge', 'Iconosys', 'Kmin', 'FakeDoc', 'Geinimi', 'Adrd', 'DroidDream', 'ExploitLinuxLotoor', 'Glodream', 'MobileTx', 'FakeRun', 'SendPay', 'Gappusin', 'Imlog']\n"
     ]
    }
   ],
   "source": [
    "# Train an ensemble SVM model using the top 20 families with the most occurrences\n",
    "\n",
    "# Get the top 20 families with the most occurrences and convert the names to a list\n",
    "top_families = family_counts[:20].index.tolist()\n",
    "\n",
    "# Create a list of sample sets and label sets for the top 20 families\n",
    "top_sample_sets = []\n",
    "\n",
    "# Create a list of label sets for the top 20 families\n",
    "top_label_sets = []\n",
    "\n",
    "# Append the sample and label sets for each family to the corresponding list\n",
    "for family in top_families:\n",
    "    top_sample_sets.append(training_sets_samples[family])\n",
    "    top_label_sets.append(training_sets_labels[family])\n",
    "\n",
    "# Train the ensemble SVM model\n",
    "ensemble_svm = Ensemble_SVM(epochs=2000, learning_rate=0.005)\n",
    "ensemble_svm.fit(top_families, top_sample_sets, top_label_sets, regularization_term=0)\n",
    "\n",
    "# Print the top 20 families used in the ensemble model\n",
    "print(\"\\nTop 20 families used in the ensemble model:\")\n",
    "print(top_families)"
   ]
  },
  {
   "cell_type": "code",
   "execution_count": 87,
   "metadata": {},
   "outputs": [],
   "source": [
    "# Store the accuracy of each model in the ensemble and the average prediction score\n",
    "model_accuracies = []\n",
    "average_prediction_score = []\n",
    "for index in range(len(top_families)):\n",
    "    # Get the predictions for each model\n",
    "    predictions = ensemble_svm.models[index].predict(top_sample_sets[index])\n",
    "    predictions = torch.where(predictions > 0.5, torch.tensor(1.0), torch.tensor(0.0))\n",
    "    # Calculate the accuracy of the model\n",
    "    num_correct = 0\n",
    "    for i in range(len(predictions)):\n",
    "        if predictions[i] == top_label_sets[index][i]:\n",
    "            num_correct += 1\n",
    "    model_accuracies.append(num_correct / len(predictions))\n",
    "    # Calculate the average prediction score\n",
    "    average_prediction_score.append(torch.mean(predictions).item())"
   ]
  },
  {
   "cell_type": "code",
   "execution_count": 125,
   "metadata": {},
   "outputs": [
    {
     "name": "stdout",
     "output_type": "stream",
     "text": [
      "[0.77985, 0.9099, 0.84629, 0.83726, 0.90233, 0.68011, 0.85549, 0.85222, 0.89953, 0.87912, 0.91804, 0.76802, 0.72493, 0.84486, 0.82257, 0.91053, 0.88627, 0.73633, 0.66047, 0.79471]\n",
      "[0.3179900050163269, 0.5900999903678894, 0.6417099833488464, 0.6611400246620178, 0.5976700186729431, 0.819890022277832, 0.5717499852180481, 0.6477800011634827, 0.6004700064659119, 0.6208800077438354, 0.46239998936653137, 0.73198002576828, 0.7750700116157532, 0.5122600197792053, 0.6484500169754028, 0.5894700288772583, 0.6137300133705139, 0.763670027256012, 0.8395299911499023, 0.7052900195121765]\n"
     ]
    }
   ],
   "source": [
    "print(model_accuracies)\n",
    "print(average_prediction_score)"
   ]
  },
  {
   "cell_type": "code",
   "execution_count": 126,
   "metadata": {},
   "outputs": [
    {
     "name": "stdout",
     "output_type": "stream",
     "text": [
      "[0.4904871144990607, 0.3083884137780568, 0.2637608957191304, 0.2532776624522216, 0.3019492267668099, 0.1659027385430322, 0.299253177828677, 0.26312019465538333, 0.2996086366725348, 0.28318515302000513, 0.39707613369873834, 0.20984725619907257, 0.18706181096821728, 0.3298559197979777, 0.25370344003898826, 0.3089317371179168, 0.28881429315562945, 0.19283983231494656, 0.15734280060569503, 0.2253569391353849]\n"
     ]
    }
   ],
   "source": [
    "# Adjust the bias using the average prediction score\n",
    "# Bias is multiplied to the model prediction\n",
    "# If an individual model has high accuracy but low average prediction score, increase the prediction score\n",
    "# If an individual model has low accuracy but high average prediction score, decrease the prediction score\n",
    "# The closer the ratio is to 1:1, the less bias is applied to the prediction\n",
    "bias = [model_accuracies[i] / average_prediction_score[i] / 5 for i in range(len(top_families))]\n",
    "print(bias)"
   ]
  },
  {
   "cell_type": "code",
   "execution_count": 105,
   "metadata": {},
   "outputs": [
    {
     "name": "stderr",
     "output_type": "stream",
     "text": [
      "C:\\Users\\Kevin\\AppData\\Local\\Temp\\ipykernel_22304\\4094012881.py:64: UserWarning: To copy construct from a tensor, it is recommended to use sourceTensor.clone().detach() or sourceTensor.clone().detach().requires_grad_(True), rather than torch.tensor(sourceTensor).\n",
      "  return torch.sigmoid(torch.matmul(torch.tensor(samples, dtype=torch.float32), self.weights) + self.bias)\n"
     ]
    },
    {
     "name": "stdout",
     "output_type": "stream",
     "text": [
      "\n",
      "Accuracy of the ensemble model on the training set: 0.01438614713245952\n"
     ]
    }
   ],
   "source": [
    "# Get the accuracy of the ensemble model on the training set\n",
    "correct_predictions = 0\n",
    "for i in range(len(dataset_vectors)):\n",
    "    family = ensemble_svm.weighted_predict(torch.tensor(dataset_vectors[i], dtype=torch.float32), bias)\n",
    "    if family == dataset_families[i]:\n",
    "        correct_predictions += 1\n",
    "accuracy = correct_predictions / len(dataset_vectors)\n",
    "print(f\"\\nAccuracy of the ensemble model on the training set: {accuracy}\")"
   ]
  },
  {
   "cell_type": "code",
   "execution_count": 41,
   "metadata": {},
   "outputs": [
    {
     "name": "stdout",
     "output_type": "stream",
     "text": [
      "\n",
      "Length of the dataset vectors:\n",
      "129013\n"
     ]
    }
   ],
   "source": [
    "# Print the length of the dataset vectors\n",
    "print(\"\\nLength of the dataset vectors:\")\n",
    "print(len(dataset_vectors))"
   ]
  },
  {
   "cell_type": "code",
   "execution_count": 66,
   "metadata": {},
   "outputs": [
    {
     "name": "stdout",
     "output_type": "stream",
     "text": [
      "\n",
      "Classifying the first 5 samples in the dataset using the ensemble model:\n",
      "Sample 0: 00002d74a9faa53f5199c910b652ef09d3a7f6bd42b693755a233635c3ffb0f4\n",
      "\tFamily: benign, Actual Family: GinMaster\n",
      "Sample 1: 000068216bdb459df847bfdd67dd11069c3c50166db1ea8772cdc9250d948bcf\n",
      "\tFamily: benign, Actual Family: benign\n",
      "Sample 2: 0000764713b286cfe7e8e76c7038c92312977712d9c5a86d504be54f3c1d025a\n",
      "\tFamily: benign, Actual Family: Opfake\n",
      "Sample 3: 0000962c2c34de1ca0c329b18be7847459da2d9d14b6b23a21cbc6427522403c\n",
      "\tFamily: benign, Actual Family: benign\n",
      "Sample 4: 000167f1ff061ea91440c40659c11c2af160342fd2e493d609e4996b8820e78f\n",
      "\tFamily: benign, Actual Family: benign\n"
     ]
    },
    {
     "name": "stderr",
     "output_type": "stream",
     "text": [
      "C:\\Users\\Kevin\\AppData\\Local\\Temp\\ipykernel_22304\\4094012881.py:64: UserWarning: To copy construct from a tensor, it is recommended to use sourceTensor.clone().detach() or sourceTensor.clone().detach().requires_grad_(True), rather than torch.tensor(sourceTensor).\n",
      "  return torch.sigmoid(torch.matmul(torch.tensor(samples, dtype=torch.float32), self.weights) + self.bias)\n"
     ]
    }
   ],
   "source": [
    "# Classify the first 5 samples in the dataset using the ensemble model\n",
    "print(\"\\nClassifying the first 5 samples in the dataset using the ensemble model:\")\n",
    "for i in range(5):\n",
    "    family = ensemble_svm.weighted_predict(torch.tensor(dataset_vectors[i], dtype=torch.float32), bias)\n",
    "    print(f\"Sample {i}: {dataset_hashes[i]}\")\n",
    "    print(f\"\\tFamily: {family}, Actual Family: {dataset_families[i]}\")"
   ]
  },
  {
   "cell_type": "code",
   "execution_count": 67,
   "metadata": {},
   "outputs": [
    {
     "name": "stderr",
     "output_type": "stream",
     "text": [
      "C:\\Users\\Kevin\\AppData\\Local\\Temp\\ipykernel_22304\\4094012881.py:64: UserWarning: To copy construct from a tensor, it is recommended to use sourceTensor.clone().detach() or sourceTensor.clone().detach().requires_grad_(True), rather than torch.tensor(sourceTensor).\n",
      "  return torch.sigmoid(torch.matmul(torch.tensor(samples, dtype=torch.float32), self.weights) + self.bias)\n"
     ]
    },
    {
     "name": "stdout",
     "output_type": "stream",
     "text": [
      "\n",
      "Accuracy of the ensemble model on the first 10000 samples: 0.0\n"
     ]
    }
   ],
   "source": [
    "# Classify the first 5 samples in the dataset using the ensemble model\n",
    "start = 0\n",
    "end = 10000\n",
    "correct_predictions = 0\n",
    "for i in range(start, end):\n",
    "    family = ensemble_svm.weighted_predict(torch.tensor(dataset_vectors[i], dtype=torch.float32), bias)\n",
    "    if family != 'benign' and family == dataset_families[i]:\n",
    "        print(f\"Sample {i}: {dataset_hashes[i]}\")\n",
    "        print(f\"\\tFamily: {family}, Actual Family: {dataset_families[i]}\")\n",
    "        correct_predictions += 1\n",
    "accuracy = correct_predictions / (end - start)\n",
    "print(f\"\\nAccuracy of the ensemble model on the first {end} samples: {accuracy}\")"
   ]
  },
  {
   "cell_type": "code",
   "execution_count": 58,
   "metadata": {},
   "outputs": [
    {
     "name": "stdout",
     "output_type": "stream",
     "text": [
      "\n",
      "First 5 samples of the training set for family 'FakeInstaller' where the label is 1:\n",
      "Sample 0: 00002d74a9faa53f5199c910b652ef09d3a7f6bd42b693755a233635c3ffb0f4\n",
      "\t[1, 0, 1, 0, 0, 1, 1, 1, 0, 0, 0, 0, 0, 0, 0, 0, 0, 0, 0, 0, 0, 0, 0, 0, 0, 0, 1, 0, 0, 0, 0, 0, 0, 0, 0, 0, 0, 0, 0, 0, 0, 0, 0, 0, 0, 0, 0, 0, 0, 0], 1\n",
      "\tPrediction: tensor([0.8909], grad_fn=<SigmoidBackward0>)\n",
      "Sample 1: 000068216bdb459df847bfdd67dd11069c3c50166db1ea8772cdc9250d948bcf\n",
      "\t[1, 1, 0, 0, 0, 1, 1, 0, 0, 0, 0, 0, 0, 1, 0, 0, 0, 0, 0, 0, 0, 0, 0, 0, 0, 0, 1, 0, 0, 0, 0, 0, 0, 0, 0, 0, 0, 0, 0, 0, 0, 0, 0, 0, 0, 0, 0, 0, 0, 0], 1\n",
      "\tPrediction: tensor([0.8845], grad_fn=<SigmoidBackward0>)\n",
      "Sample 2: 0000764713b286cfe7e8e76c7038c92312977712d9c5a86d504be54f3c1d025a\n",
      "\t[1, 1, 1, 0, 0, 1, 1, 0, 0, 0, 0, 1, 0, 0, 0, 0, 0, 0, 0, 0, 0, 0, 0, 0, 0, 0, 0, 0, 0, 0, 0, 0, 0, 0, 0, 0, 0, 0, 0, 0, 0, 0, 0, 0, 0, 0, 0, 0, 0, 0], 1\n",
      "\tPrediction: tensor([0.9182], grad_fn=<SigmoidBackward0>)\n",
      "Sample 3: 0000962c2c34de1ca0c329b18be7847459da2d9d14b6b23a21cbc6427522403c\n",
      "\t[1, 1, 1, 0, 0, 1, 1, 0, 0, 0, 0, 1, 0, 0, 0, 0, 0, 0, 0, 0, 0, 0, 0, 0, 0, 0, 0, 0, 0, 0, 0, 0, 0, 0, 0, 0, 0, 0, 0, 0, 0, 0, 0, 0, 0, 0, 0, 0, 0, 0], 1\n",
      "\tPrediction: tensor([0.9182], grad_fn=<SigmoidBackward0>)\n",
      "Sample 4: 000167f1ff061ea91440c40659c11c2af160342fd2e493d609e4996b8820e78f\n",
      "\t[1, 1, 1, 1, 0, 1, 1, 0, 0, 0, 0, 1, 1, 1, 0, 0, 0, 0, 0, 0, 0, 1, 0, 0, 0, 0, 0, 0, 0, 0, 0, 0, 0, 0, 0, 0, 0, 0, 0, 0, 0, 1, 0, 0, 0, 0, 0, 0, 0, 0], 1\n",
      "\tPrediction: tensor([0.9281], grad_fn=<SigmoidBackward0>)\n",
      "\n",
      "First 5 samples of the training set for family 'FakeInstaller' where the label is 0:\n",
      "Sample 50000: 63120521eae8dc4a1cd0df68b1a8df1c0b01d58522e874dd10a0fec2ce884f39\n",
      "\t[1, 1, 1, 1, 1, 0, 0, 1, 0, 0, 1, 0, 0, 0, 0, 0, 0, 0, 0, 0, 1, 0, 0, 0, 0, 0, 0, 0, 0, 0, 1, 0, 0, 0, 0, 1, 0, 0, 0, 0, 0, 0, 0, 0, 0, 0, 0, 0, 0, 0], 0\n",
      "\tPrediction: tensor([0.3246], grad_fn=<SigmoidBackward0>)\n",
      "Sample 50001: 6312646f4c90c4578397362c06667d26efaec38eb2a55e0378879d614779b197\n",
      "\t[1, 0, 0, 1, 0, 0, 0, 1, 0, 0, 0, 0, 0, 0, 0, 0, 0, 0, 0, 0, 0, 0, 0, 0, 0, 0, 0, 0, 0, 0, 0, 0, 0, 0, 0, 0, 0, 0, 0, 0, 0, 0, 0, 0, 0, 0, 0, 0, 0, 0], 0\n",
      "\tPrediction: tensor([0.5263], grad_fn=<SigmoidBackward0>)\n",
      "Sample 50002: 631387bd6baa9d1932c52fb278e03690376ef03d1ef2a56dd40e946423ba4f07\n",
      "\t[1, 1, 1, 1, 1, 1, 1, 1, 0, 0, 0, 0, 0, 0, 1, 1, 1, 1, 1, 0, 1, 0, 0, 0, 0, 0, 0, 0, 0, 0, 0, 0, 0, 0, 0, 0, 0, 0, 0, 0, 0, 0, 0, 0, 0, 0, 0, 0, 0, 0], 0\n",
      "\tPrediction: tensor([0.6386], grad_fn=<SigmoidBackward0>)\n",
      "Sample 50003: 631476c68f3867bd771765d0868f38fbdab5bfda1d9c05ed83b23b8ee8e4abab\n",
      "\t[1, 1, 0, 0, 0, 0, 0, 0, 0, 0, 1, 0, 0, 0, 0, 0, 0, 0, 0, 0, 0, 0, 0, 0, 0, 0, 0, 0, 0, 0, 0, 0, 0, 0, 0, 0, 0, 0, 0, 0, 0, 0, 0, 0, 0, 0, 0, 0, 0, 0], 0\n",
      "\tPrediction: tensor([0.3799], grad_fn=<SigmoidBackward0>)\n",
      "Sample 50004: 6314ae717606dd9a69a1363877472b6f0332b1a87656838becba87d95b0c4b6c\n",
      "\t[1, 1, 0, 1, 1, 0, 0, 0, 0, 0, 1, 0, 0, 0, 0, 0, 0, 0, 0, 0, 0, 0, 0, 0, 0, 0, 0, 0, 0, 0, 1, 0, 0, 0, 0, 0, 0, 0, 0, 0, 0, 0, 0, 0, 0, 0, 0, 0, 0, 0], 0\n",
      "\tPrediction: tensor([0.2962], grad_fn=<SigmoidBackward0>)\n"
     ]
    },
    {
     "name": "stderr",
     "output_type": "stream",
     "text": [
      "C:\\Users\\Kevin\\AppData\\Local\\Temp\\ipykernel_22304\\4094012881.py:64: UserWarning: To copy construct from a tensor, it is recommended to use sourceTensor.clone().detach() or sourceTensor.clone().detach().requires_grad_(True), rather than torch.tensor(sourceTensor).\n",
      "  return torch.sigmoid(torch.matmul(torch.tensor(samples, dtype=torch.float32), self.weights) + self.bias)\n"
     ]
    },
    {
     "name": "stdout",
     "output_type": "stream",
     "text": [
      "\n",
      "Accuracy of the model on the training set for family 'FakeInstaller': 0.9099\n",
      "Average prediction score: tensor([0.6457], grad_fn=<DivBackward0>)\n"
     ]
    }
   ],
   "source": [
    "index = 1\n",
    "family = ensemble_svm.model_families[index]\n",
    "training_set_samples = top_sample_sets[index]\n",
    "training_set_labels = top_label_sets[index]\n",
    "svm = ensemble_svm.models[index]\n",
    "\n",
    "# Print the first 5 samples of the training set for the family where the label is 1\n",
    "print(f\"\\nFirst 5 samples of the training set for family '{family}' where the label is 1:\")\n",
    "count = 0\n",
    "for i in range(len(training_sets_labels[family])):\n",
    "    if training_sets_labels[family][i] == 1:\n",
    "        print(f\"Sample {i}: {dataset_hashes[i]}\")\n",
    "        print(f\"\\t{training_sets_samples[family][i]}, {training_sets_labels[family][i]}\")\n",
    "        print(f\"\\tPrediction: {svm.predict(torch.tensor(training_sets_samples[family][i], dtype=torch.float32))}\")\n",
    "        count += 1\n",
    "        if count == 5:\n",
    "            break\n",
    "\n",
    "# Print the first 5 samples of the training set for the family where the label is 0\n",
    "print(f\"\\nFirst 5 samples of the training set for family '{family}' where the label is 0:\")\n",
    "count = 0\n",
    "for i in range(len(training_sets_labels[family])):\n",
    "    if training_sets_labels[family][i] == 0:\n",
    "        print(f\"Sample {i}: {dataset_hashes[i]}\")\n",
    "        print(f\"\\t{training_sets_samples[family][i]}, {training_sets_labels[family][i]}\")\n",
    "        print(f\"\\tPrediction: {svm.predict(torch.tensor(training_sets_samples[family][i], dtype=torch.float32))}\")\n",
    "        count += 1\n",
    "        if count == 5:\n",
    "            break\n",
    "\n",
    "# Get the accuracy of the model on the training set\n",
    "correct_predictions = 0\n",
    "prediction_score_accumulator = 0\n",
    "for i in range(len(training_sets_labels[family])):\n",
    "    prediction = svm.predict(torch.tensor(training_sets_samples[family][i], dtype=torch.float32))\n",
    "    prediction_score_accumulator += prediction\n",
    "    if (prediction >= 0.5 and training_sets_labels[family][i] == 1) or (prediction < 0.5 and training_sets_labels[family][i] == 0):\n",
    "        correct_predictions += 1\n",
    "accuracy = correct_predictions / len(training_sets_labels[family])\n",
    "print(f\"\\nAccuracy of the model on the training set for family '{family}': {accuracy}\")\n",
    "print(f\"Average prediction score: {prediction_score_accumulator / len(training_sets_labels[family])}\")"
   ]
  }
 ],
 "metadata": {
  "kernelspec": {
   "display_name": "Python 3",
   "language": "python",
   "name": "python3"
  },
  "language_info": {
   "codemirror_mode": {
    "name": "ipython",
    "version": 3
   },
   "file_extension": ".py",
   "mimetype": "text/x-python",
   "name": "python",
   "nbconvert_exporter": "python",
   "pygments_lexer": "ipython3",
   "version": "3.13.2"
  }
 },
 "nbformat": 4,
 "nbformat_minor": 2
}
