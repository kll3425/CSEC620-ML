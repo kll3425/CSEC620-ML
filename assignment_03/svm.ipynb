{
 "cells": [
  {
   "cell_type": "code",
   "execution_count": null,
   "metadata": {},
   "outputs": [
    {
     "name": "stdout",
     "output_type": "stream",
     "text": [
      "\n",
      "Loaded dataset from csv file:\n",
      "                                                hash  label     family  \\\n",
      "0  00002d74a9faa53f5199c910b652ef09d3a7f6bd42b693...      1  GinMaster   \n",
      "1  000068216bdb459df847bfdd67dd11069c3c50166db1ea...      0     benign   \n",
      "2  0000764713b286cfe7e8e76c7038c92312977712d9c5a8...      1     Opfake   \n",
      "3  0000962c2c34de1ca0c329b18be7847459da2d9d14b6b2...      0     benign   \n",
      "4  000167f1ff061ea91440c40659c11c2af160342fd2e493...      0     benign   \n",
      "\n",
      "                                      vector  \n",
      "0  [1 1 1 1 1 0 0 1 0 0 1 0 0 0 0 0 0 0 0 0]  \n",
      "1  [1 0 0 1 0 0 0 1 0 0 0 0 0 0 0 0 0 0 0 0]  \n",
      "2  [1 1 1 1 1 1 1 1 0 0 0 1 1 1 1 1 0 0 0 0]  \n",
      "3  [1 1 0 0 0 0 0 0 0 0 1 0 0 0 0 0 0 0 0 0]  \n",
      "4  [1 1 0 1 1 0 0 0 0 0 1 0 0 0 0 0 0 0 0 0]  \n",
      "\n",
      "Keys of the loaded dataset:\n",
      "Index(['hash', 'label', 'family', 'vector'], dtype='object')\n",
      "\n",
      "First 5 samples in the dataset:\n",
      "Sample 0: 00002d74a9faa53f5199c910b652ef09d3a7f6bd42b693755a233635c3ffb0f4\n",
      "\t[1 1 1 1 1 0 0 1 0 0 1 0 0 0 0 0 0 0 0 0], 1, GinMaster\n",
      "Sample 1: 000068216bdb459df847bfdd67dd11069c3c50166db1ea8772cdc9250d948bcf\n",
      "\t[1 0 0 1 0 0 0 1 0 0 0 0 0 0 0 0 0 0 0 0], 0, benign\n",
      "Sample 2: 0000764713b286cfe7e8e76c7038c92312977712d9c5a86d504be54f3c1d025a\n",
      "\t[1 1 1 1 1 1 1 1 0 0 0 1 1 1 1 1 0 0 0 0], 1, Opfake\n",
      "Sample 3: 0000962c2c34de1ca0c329b18be7847459da2d9d14b6b23a21cbc6427522403c\n",
      "\t[1 1 0 0 0 0 0 0 0 0 1 0 0 0 0 0 0 0 0 0], 0, benign\n",
      "Sample 4: 000167f1ff061ea91440c40659c11c2af160342fd2e493d609e4996b8820e78f\n",
      "\t[1 1 0 1 1 0 0 0 0 0 1 0 0 0 0 0 0 0 0 0], 0, benign\n"
     ]
    }
   ],
   "source": [
    "# Import numpy and pandas libraries\n",
    "import numpy as np\n",
    "import pandas as pd\n",
    "\n",
    "# Load the dataset from the csv file\n",
    "def load_dataset_from_csv(file_path):\n",
    "    df = pd.read_csv(file_path)\n",
    "    return df\n",
    "\n",
    "# Load the dataset from the csv file\n",
    "loaded_dataset = load_dataset_from_csv('vectorized_dataset.csv')\n",
    "print(\"\\nLoaded dataset from csv file:\")\n",
    "print(loaded_dataset.head())\n",
    "\n",
    "# Print keys of the loaded dataset\n",
    "print(\"\\nKeys of the loaded dataset:\")\n",
    "print(loaded_dataset.keys())\n",
    "\n",
    "# Convert all columns to numpy arrays\n",
    "dataset_hashes = np.array(loaded_dataset['hash'].tolist())\n",
    "dataset_labels = np.array(loaded_dataset['label'].tolist())\n",
    "dataset_families = np.array(loaded_dataset['family'].tolist())\n",
    "\n",
    "# Process each vector in the dataset by removing the brackets and converting to numpy array\n",
    "dataset_vectors = []\n",
    "for vector in loaded_dataset['vector']:\n",
    "    vector = vector.strip('[]').split(' ')\n",
    "    vector = np.array(vector, dtype=int)\n",
    "    dataset_vectors.append(vector)\n",
    "# Convert to numpy array for easier manipulation and faster processing\n",
    "dataset_vectors = np.array(dataset_vectors)\n",
    "\n",
    "# Print the first 5 samples in the dataset along with their hashes and labels\n",
    "print(\"\\nFirst 5 samples in the dataset:\")\n",
    "for i in range(5):\n",
    "    print(f\"Sample {i}: {dataset_hashes[i]}\")\n",
    "    print(f\"\\t{dataset_vectors[i]}, {dataset_labels[i]}, {dataset_families[i]}\")"
   ]
  }
 ],
 "metadata": {
  "kernelspec": {
   "display_name": "Python 3",
   "language": "python",
   "name": "python3"
  },
  "language_info": {
   "codemirror_mode": {
    "name": "ipython",
    "version": 3
   },
   "file_extension": ".py",
   "mimetype": "text/x-python",
   "name": "python",
   "nbconvert_exporter": "python",
   "pygments_lexer": "ipython3",
   "version": "3.13.2"
  }
 },
 "nbformat": 4,
 "nbformat_minor": 2
}
